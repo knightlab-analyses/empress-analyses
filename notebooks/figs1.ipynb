{
 "cells": [
  {
   "cell_type": "code",
   "execution_count": 1,
   "metadata": {},
   "outputs": [],
   "source": [
    "%matplotlib inline\n",
    "\n",
    "from biom import load_table\n",
    "import matplotlib.pyplot as plt\n",
    "import numpy as np\n",
    "import pandas as pd\n",
    "from qiime2 import Artifact, Metadata\n",
    "from qiime2.plugins import diversity, empress\n",
    "import scipy.stats as ss\n",
    "import seaborn as sns"
   ]
  },
  {
   "cell_type": "markdown",
   "metadata": {},
   "source": [
    "First, we need to import the relevant data types"
   ]
  },
  {
   "cell_type": "markdown",
   "metadata": {},
   "source": [
    "```bash\n",
    "qiime tools import \\\n",
    "    --type FeatureTable[Frequency] \\\n",
    "    --input-path figs1/input/57013_reference-hit.biom \\\n",
    "    --output-path figs1/output/table.qza\n",
    "    \n",
    "qiime tools import \\\n",
    "    --type Phylogeny[Rooted] \\\n",
    "    --input-path figs1/input/57013_insertion_tree.relabelled.tre \\\n",
    "    --output-path figs1/output/tree.qza\n",
    "    \n",
    "qiime tools import \\\n",
    "    --type FeatureData[Sequence] \\\n",
    "    --input-path figs1/input/57013_reference-hit.seqs.fa \\\n",
    "    --output-path figs1/output/sequences.qza\n",
    "```"
   ]
  },
  {
   "cell_type": "markdown",
   "metadata": {},
   "source": [
    "Then we'll want to perform taxonomy classification to later import as additional metadata."
   ]
  },
  {
   "cell_type": "markdown",
   "metadata": {},
   "source": [
    "```bash\n",
    "wget https://data.qiime2.org/2020.8/common/gg-13-8-99-nb-classifier.qza\n",
    "    \n",
    "qiime feature-classifier classify-sklearn \\\n",
    "    --i-reads figs1/output/sequences.qza \\\n",
    "    --i-classifier gg-13-8-99-nb-classifier.qza \\\n",
    "    --p-n-jobs -1 \\\n",
    "    --o-classification figs1/output/taxonomy.qza \n",
    "```"
   ]
  },
  {
   "cell_type": "markdown",
   "metadata": {},
   "source": [
    "Now we can perform differential abundance analysis and the ILR transform.\n",
    "\n",
    "```bash\n",
    "qiime songbird multinomial \\\n",
    "    --i-table figs1/output/table.qza \\\n",
    "    --p-formula 'C(country) + C(diet)' \\\n",
    "    --m-metadata-file figs1/input/11212_prep_3370_qiime_20170918-134804.txt \\\n",
    "    --output-dir figs1/output/multinomial\n",
    "    \n",
    "qiime gneiss ilr-phylogenetic-differential \\\n",
    "    --i-differential figs1/output/multinomial/differentials.qza \\\n",
    "    --i-tree figs1/output/tree.qza \\\n",
    "    --output-dir figs1/output/ilr\n",
    "```"
   ]
  },
  {
   "cell_type": "markdown",
   "metadata": {},
   "source": [
    "Now that we have the ILR transformed differentials, we can view them and sort them by magnitude.\n",
    "```\n",
    "qiime metadata tabulate \\\n",
    "    --m-input-file figs1/output/ilr/ilr_differential.qza \\\n",
    "    --o-visualization figs1/output/ilr/ilr_differential.qzv\n",
    "    \n",
    "qiime tools view figs1/output/ilr/ilr_differential.qzv\n",
    "```\n",
    "\n",
    "Picking meaningful clades can be tricky -- if the clade is too close to the tips of the tree, it can be noisy.\n",
    "The ids of the clades correspond to the level ordering - ids with smaller numbers are closer to the root of the tree, whereas larger ids are closer to the tips of the tree. The rule of thumb is to pull out clades that are closer to the root of the tree, since it is likely to contain a large aggregate of microbes.\n",
    "\n",
    "Looking at the top 3 largest balances and bottom 3 most negative balances that differentiate diet, there are a few candidates, namely `y231,y169,y56` and `y10,y4,y15`.  We can do two things, namely visualize these clades directly on the tree, and visualize them as an ordination.\n",
    "\n",
    "```\n",
    "qiime gneiss ilr-phylogenetic-ordination \\\n",
    "    --i-table figs1/output/table.qza \\\n",
    "    --i-tree figs1/output/tree.qza \\\n",
    "    --p-clades y231,y169,y56,y10,y4,y15 \\\n",
    "    --output-dir figs1/output/ordination \n",
    "```"
   ]
  },
  {
   "cell_type": "markdown",
   "metadata": {},
   "source": [
    "```bash\n",
    "qiime empress community-plot \\\n",
    "       --i-tree figs1/output/tree.qza \\\n",
    "       --i-feature-table figs1/output/table.qza \\\n",
    "       --i-pcoa figs1/output/ordination/ordination.qza \\\n",
    "       --m-feature-metadata-file figs1/output/taxonomy.qza \\\n",
    "       --m-feature-metadata-file figs1/output/ordination/clade_metadata.qza \\\n",
    "       --m-sample-metadata-file figs1/input/11212_prep_3370_qiime_20170918-134804.txt \\\n",
    "       --p-filter-missing-features \\\n",
    "       --o-visualization figs1/output/ilr-ordination.qzv\n",
    "```"
   ]
  },
  {
   "cell_type": "code",
   "execution_count": null,
   "metadata": {},
   "outputs": [],
   "source": []
  }
 ],
 "metadata": {
  "kernelspec": {
   "display_name": "Python 3",
   "language": "python",
   "name": "python3"
  },
  "language_info": {
   "codemirror_mode": {
    "name": "ipython",
    "version": 3
   },
   "file_extension": ".py",
   "mimetype": "text/x-python",
   "name": "python",
   "nbconvert_exporter": "python",
   "pygments_lexer": "ipython3",
   "version": "3.6.10"
  }
 },
 "nbformat": 4,
 "nbformat_minor": 4
}
