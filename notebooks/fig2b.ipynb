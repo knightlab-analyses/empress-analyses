{
 "cells": [
  {
   "cell_type": "markdown",
   "metadata": {},
   "source": [
    "# Global Foodomics Visualization\n",
    "\n",
    "This figure re-visualizes the food metabolome dataset used in [Tripathi and Vazquez-Baeza et al. 2020](https://www.biorxiv.org/content/10.1101/2020.05.04.077636v1). This is an untargeted metabolomics study looking at food-associated samples in the context of a cladogram created using [*q2-qemistree*](https://github.com/biocore/q2-qemistree).\n",
    "\n",
    "The main goal of this figure is demonstrating the ease of visualizing feature prevalence on an EMPress tree, allowing us to do things like quickly see which types of samples contain features present in certain clades.\n",
    "\n",
    "## Requirements\n",
    "This should be run from within a QIIME 2 (at least version 2019.10) conda environment, with EMPress installed. Please see [EMPress' README](https://github.com/biocore/empress) for the most up-to-date installation instructions."
   ]
  },
  {
   "cell_type": "code",
   "execution_count": 1,
   "metadata": {},
   "outputs": [],
   "source": [
    "import qiime2 as q2, pandas as pd, numpy as np, seaborn as sns, biom"
   ]
  },
  {
   "cell_type": "code",
   "execution_count": 2,
   "metadata": {},
   "outputs": [],
   "source": [
    "mkdir -p fig2b/output"
   ]
  },
  {
   "cell_type": "code",
   "execution_count": 3,
   "metadata": {},
   "outputs": [],
   "source": [
    "fm = q2.Artifact.load('fig2b/input/feature-data-classified.qza').view(pd.DataFrame)"
   ]
  },
  {
   "cell_type": "code",
   "execution_count": 4,
   "metadata": {},
   "outputs": [
    {
     "data": {
      "text/plain": [
       "unclassified                               246\n",
       "Lipids and lipid-like molecules            144\n",
       "Organic acids and derivatives               61\n",
       "Phenylpropanoids and polyketides            52\n",
       "Benzenoids                                  36\n",
       "Organoheterocyclic compounds                33\n",
       "Organic oxygen compounds                    29\n",
       "Organic nitrogen compounds                  25\n",
       "Alkaloids and derivatives                    4\n",
       "Nucleosides, nucleotides, and analogues      3\n",
       "SMILE parse error                            1\n",
       "Name: superclass, dtype: int64"
      ]
     },
     "execution_count": 4,
     "metadata": {},
     "output_type": "execute_result"
    }
   ],
   "source": [
    "fm.superclass.value_counts()"
   ]
  },
  {
   "cell_type": "markdown",
   "metadata": {},
   "source": [
    "Using q2-qemistree and [Classyfire](http://classyfire.wishartlab.com), we can obtain annotations for the MS features in a dataset. However, these annotations are not available for every feature. In order to narrow the scope of this analysis, we will remove all features that lack a superclass annotation."
   ]
  },
  {
   "cell_type": "code",
   "execution_count": 5,
   "metadata": {},
   "outputs": [],
   "source": [
    "observations = fm.query('superclass != \"SMILE parse error\" and superclass != \"unclassified\"').index.tolist()"
   ]
  },
  {
   "cell_type": "markdown",
   "metadata": {},
   "source": [
    "Similarly, we'll also focus only on the samples with a *common meal type* annotation."
   ]
  },
  {
   "cell_type": "code",
   "execution_count": 6,
   "metadata": {},
   "outputs": [],
   "source": [
    "mf = q2.Metadata.load('fig2b/input/mapping-file.txt').to_dataframe()\n",
    "samples = mf.query('common_meal_type != \"not applicable\"').index.tolist()"
   ]
  },
  {
   "cell_type": "markdown",
   "metadata": {},
   "source": [
    "Using the selected samples and observations we can subset the feature table before visualizing the tree."
   ]
  },
  {
   "cell_type": "code",
   "execution_count": 7,
   "metadata": {},
   "outputs": [
    {
     "data": {
      "text/plain": [
       "'fig2b/output/filtered-feature-table.qza'"
      ]
     },
     "execution_count": 7,
     "metadata": {},
     "output_type": "execute_result"
    }
   ],
   "source": [
    "bt = q2.Artifact.load('fig2b/input/feature-table-hashed.qza').view(biom.Table)\n",
    "\n",
    "bt.filter(set(samples) & set(bt.ids()), axis='sample', inplace=True)\n",
    "bt.filter(observations, axis='observation', inplace=True)\n",
    "\n",
    "q2.Artifact.import_data('FeatureTable[Frequency]', bt).save('fig2b/output/filtered-feature-table.qza')"
   ]
  },
  {
   "cell_type": "code",
   "execution_count": 8,
   "metadata": {},
   "outputs": [
    {
     "name": "stdout",
     "output_type": "stream",
     "text": [
      "\u001b[32mSaved Visualization to: fig2b/output/fig2b.qzv\u001b[0m\r\n"
     ]
    }
   ],
   "source": [
    "!qiime empress community-plot \\\n",
    "--i-tree fig2b/input/qemistree.qza \\\n",
    "--i-feature-table fig2b/output/filtered-feature-table.qza \\\n",
    "--m-sample-metadata-file fig2b/input/mapping-file.txt \\\n",
    "--m-feature-metadata-file fig2b/input/feature-data-classified.qza \\\n",
    "--o-visualization fig2b/output/fig2b.qzv"
   ]
  },
  {
   "cell_type": "code",
   "execution_count": null,
   "metadata": {},
   "outputs": [],
   "source": []
  }
 ],
 "metadata": {
  "kernelspec": {
   "display_name": "Python 3",
   "language": "python",
   "name": "python3"
  },
  "language_info": {
   "codemirror_mode": {
    "name": "ipython",
    "version": 3
   },
   "file_extension": ".py",
   "mimetype": "text/x-python",
   "name": "python",
   "nbconvert_exporter": "python",
   "pygments_lexer": "ipython3",
   "version": "3.6.7"
  }
 },
 "nbformat": 4,
 "nbformat_minor": 4
}
