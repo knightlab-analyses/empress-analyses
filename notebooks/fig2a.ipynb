{
 "cells": [
  {
   "cell_type": "code",
   "execution_count": 1,
   "metadata": {},
   "outputs": [],
   "source": [
    "from skbio import TreeNode\n",
    "from qiime2 import Artifact\n",
    "import pandas as pd\n",
    "from qiime2.plugins import empress\n",
    "from qiime2 import Visualization\n",
    "import numpy as np\n",
    "from scipy import stats"
   ]
  },
  {
   "cell_type": "markdown",
   "metadata": {},
   "source": [
    "# Import data"
   ]
  },
  {
   "cell_type": "code",
   "execution_count": 2,
   "metadata": {},
   "outputs": [],
   "source": [
    "# covid feature table\n",
    "covid_table = pd.read_csv(\"fig2a/input/COVID19-v2/COVID_prromenade.csv\", index_col=\"Feature\")\n",
    "covid_table[covid_table == 1] = 0\n",
    "\n",
    "# feature metadata\n",
    "f_change = pd.read_csv(\"fig2a/input/COVID_featureChanges.csv\", index_col=\"feature id\", delimiter='\\t')\n",
    "f_text = pd.read_csv(\"fig2a/input/feature-metadata.tsv\", index_col=\"feature-id\", delimiter=\"\\t\")"
   ]
  },
  {
   "cell_type": "markdown",
   "metadata": {},
   "source": [
    "# Calculate ks p-values for healthy control"
   ]
  },
  {
   "cell_type": "code",
   "execution_count": 3,
   "metadata": {},
   "outputs": [],
   "source": [
    "# calculate covid_hc_sig (covid vs healthy control ks p_value) for each feature\n",
    "covid_hc_pval = {}\n",
    "columns = covid_table.T.columns.to_list()\n",
    "for column in columns:\n",
    "    covid = [] # stores feature observations for covid samples\n",
    "    hc = [] # stores feature observations for healthy control samples\n",
    "    \n",
    "    # iterate over each feature\n",
    "    for key, val in covid_table.T[column].to_dict().items():\n",
    "        # add feature observations to arrays \n",
    "        if \"COVID\" in key:\n",
    "            covid.append(val)\n",
    "        elif \"HC\" in key:\n",
    "            hc.append(val)\n",
    "    # get p-value from ks test\n",
    "    covid_hc_pval[column] = stats.ks_2samp(np.array(covid), np.array(hc))[1]"
   ]
  },
  {
   "cell_type": "markdown",
   "metadata": {},
   "source": [
    "# Calculate ks p-values for pneumonia patients"
   ]
  },
  {
   "cell_type": "code",
   "execution_count": 4,
   "metadata": {},
   "outputs": [],
   "source": [
    "# calculate covid_hc_sig (covid vs pneumonia patients ks p_value) for each feature\n",
    "covid_pn_pval = {}\n",
    "columns = covid_table.T.columns.to_list()\n",
    "for column in columns:\n",
    "    covid = [] # stores feature observations for covid samples\n",
    "    pn = [] # stores feature observations for pneumonia patient samples\n",
    "    \n",
    "    # iterate over each feature\n",
    "    for key, val in covid_table.T[column].to_dict().items():\n",
    "        # add feature observations to arrays \n",
    "        if \"COVID\" in key:\n",
    "            covid.append(val)\n",
    "        elif \"CAP\" in key:\n",
    "            pn.append(val)\n",
    "    # get p-value from ks test\n",
    "    covid_pn_pval[column] = stats.ks_2samp(np.array(covid), np.array(pn))[1]"
   ]
  },
  {
   "cell_type": "markdown",
   "metadata": {},
   "source": [
    "# Find significant features"
   ]
  },
  {
   "cell_type": "code",
   "execution_count": 5,
   "metadata": {},
   "outputs": [],
   "source": [
    "# marks a feature as significant if its ks p-value is < 0.05\n",
    "def assign_sig(val):\n",
    "    if val < 0.05:\n",
    "        return True\n",
    "    return False\n",
    "covid_hc_pval_rank = {key:assign_sig(val) for key, val in covid_hc_pval.items()}\n",
    "covid_pn_pval_rank = {key:assign_sig(val) for key, val in covid_pn_pval.items()}"
   ]
  },
  {
   "cell_type": "markdown",
   "metadata": {},
   "source": [
    "# Create tree"
   ]
  },
  {
   "cell_type": "code",
   "execution_count": 6,
   "metadata": {},
   "outputs": [],
   "source": [
    "# read node list file\n",
    "node_list = open(\"fig2a/input/nodes_prromenade.txt\").read().replace(\"\\t\", \"\").split('\\n')\n",
    "node_list.pop() # remove the EOF entry\n",
    "c_to_p = node_list\n",
    "c_to_p = [child_parent.split(\"|\") for child_parent in c_to_p]\n",
    "c_to_p = [(child_parent[0], child_parent[1]) for child_parent in c_to_p] # create (child, parenent)\n",
    "\n",
    "# rename nodes to use EC_code\n",
    "id_to_EC = open(\"fig2a/input/kegg_bactLTU_virusLTU.taxid_code_name.txt\").read().split(\"\\n\")\n",
    "id_to_EC = id_to_EC[1:]\n",
    "id_to_EC.pop()\n",
    "id_to_EC = [i.split(\"\\t\")[:2] for i in id_to_EC] # keep the first two columns\n",
    "id_to_EC = {i[0]: i[1] for i in id_to_EC}\n",
    "\n",
    "# create tree\n",
    "tree = {id_to_EC[\"1\"]: TreeNode(id_to_EC[\"1\"], length=1)} # root node\n",
    "for child, parent in c_to_p:\n",
    "    child = id_to_EC[child]\n",
    "    parent = id_to_EC[parent]\n",
    "    if child not in tree:\n",
    "        tree[child] = TreeNode(child, length=1, parent=tree[parent]) # link child to parent\n",
    "    tree[parent].children.append(tree[child]) # link parent to child\n",
    "    \n",
    "# get root of tree\n",
    "tree = tree[id_to_EC[\"1\"]]\n",
    "\n",
    "# get list of tips\n",
    "tips = []\n",
    "for node in tree.postorder():\n",
    "    if node.is_tip():\n",
    "        tips.append(node.name)"
   ]
  },
  {
   "cell_type": "markdown",
   "metadata": {},
   "source": [
    "# Find which features are more/less significantly abundant in COVID-19"
   ]
  },
  {
   "cell_type": "code",
   "execution_count": 7,
   "metadata": {},
   "outputs": [],
   "source": [
    "# grab features in preorder in preorder\n",
    "names = [node.name for node in tree.preorder(include_self=True)]\n",
    "f_text = f_text.loc[names]\n",
    "\n",
    "features = id_to_EC.values()\n",
    "taxes = f_text.loc[features, \"text_description\"].to_list()\n",
    "covid_hc_mean_map = f_change[\"COVID_minus_HC\"].to_dict()\n",
    "covid_pn_mean_map = f_change[\"COVID_minus_CAP\"].to_dict()\n",
    "for node, tax in zip(features, taxes):\n",
    "    # get node\n",
    "    t_node = tree.find(node)\n",
    "    \n",
    "    # assign taxonomy\n",
    "    t_node.tax = tax\n",
    "    \n",
    "    # assign p-value (hc)\n",
    "    if node in covid_hc_pval:\n",
    "        t_node.covid_hc_pval = covid_hc_pval[node]\n",
    "    else:\n",
    "        t_node.covid_hc_pval = 1\n",
    "        \n",
    "    # assign p-value (pn)\n",
    "    if node in covid_pn_pval:\n",
    "        t_node.covid_pn_pval = covid_pn_pval[node]\n",
    "    else:\n",
    "        t_node.covid_pn_pval = 1\n",
    "    \n",
    "    # assign abundance value (hc)\n",
    "    if node in covid_hc_pval:\n",
    "        if covid_hc_pval_rank[node]: # feature is significant\n",
    "            if covid_hc_mean_map[node] > 0: # more abundant in COVID-19\n",
    "                t_node.covid_hc_is_sig = 1\n",
    "            else: # less abundant in COVID-19\n",
    "                t_node.covid_hc_is_sig = -1\n",
    "        else:\n",
    "            t_node.covid_hc_is_sig = 0 #no significant difference\n",
    "    else: # no significant difference\n",
    "        t_node.covid_hc_is_sig = 0\n",
    "    \n",
    "    # assign abundance value (pn)\n",
    "    if node in covid_pn_pval:\n",
    "        if covid_pn_pval_rank[node]: # feature is significant\n",
    "            if covid_pn_mean_map[node] > 0: # more abundant in COVID-19\n",
    "                t_node.covid_pn_is_sig = 1\n",
    "            else: # less abundant in COVID-19\n",
    "                t_node.covid_pn_is_sig = -1\n",
    "        else:\n",
    "            t_node.covid_pn_is_sig = 0 # no significant difference\n",
    "    else: # no significant difference\n",
    "        t_node.covid_pn_is_sig = 0\n",
    "        \n",
    "# project taxonomy up tree\n",
    "for node in tree.preorder(include_self=True):\n",
    "    level = len(node.ancestors())\n",
    "    setattr(node, \"level_\" + str(level), node.tax)\n",
    "    for i in range(1, level):\n",
    "        tax = getattr(node.parent, \"level_\" + str(i))\n",
    "        setattr(node, \"level_\" + str(i), tax)\n",
    "\n",
    "# add taxonomy to metadata\n",
    "for i in range(1, 5):\n",
    "    f_text[\"level_\" + str(i)] = [getattr(node, \"level_\" + str(i)) if hasattr(node, \"level_\" + str(i)) \\\n",
    "                                    else \"\" for node in tree.preorder(include_self=True)]"
   ]
  },
  {
   "cell_type": "markdown",
   "metadata": {},
   "source": [
    "# Create feature metadata file"
   ]
  },
  {
   "cell_type": "code",
   "execution_count": 8,
   "metadata": {},
   "outputs": [],
   "source": [
    "columns = f_text.index.to_list()\n",
    "f_text[\"p_value\"] = [tree.find(name).covid_hc_pval for name in columns]\n",
    "f_text[\"covid_hc_sig\"] = [tree.find(name).covid_hc_is_sig for name in columns]\n",
    "f_text[\"covid_pn_sig\"] = [tree.find(name).covid_pn_is_sig for name in columns]\n",
    "f_meta = f_change.merge(f_text, left_index=True, right_index=True,how=\"right\")\n",
    "f_meta[\"custom_level\"] = f_meta[\"level_1\"].copy()\n",
    "f_meta.loc[f_meta[\"custom_level\"] == \"Lyases\", \"custom_level\"] = \\\n",
    "        f_meta.loc[f_meta[\"custom_level\"] == \"Lyases\", \"level_2\"]\n",
    "f_meta.to_csv(\"fig2a/output/feature-change-metadata.tsv\", sep=\"\\t\")"
   ]
  },
  {
   "cell_type": "markdown",
   "metadata": {},
   "source": [
    "# Create qiime artifacts"
   ]
  },
  {
   "cell_type": "code",
   "execution_count": 9,
   "metadata": {},
   "outputs": [
    {
     "data": {
      "text/plain": [
       "'fig2a/output/tree.qza'"
      ]
     },
     "execution_count": 9,
     "metadata": {},
     "output_type": "execute_result"
    }
   ],
   "source": [
    "f = covid_table.index.to_list()\n",
    "f_k = [i for i in f if i in tips]\n",
    "covid_table = covid_table.loc[f_k].T\n",
    "Artifact.import_data(\"FeatureTable[Frequency]\", covid_table).save(\"fig2a/output/covid-table.qza\")\n",
    "Artifact.import_data(\"Phylogeny[Rooted]\", tree, view_type=TreeNode).save(\"fig2a/output/tree.qza\")"
   ]
  },
  {
   "cell_type": "markdown",
   "metadata": {},
   "source": [
    "# Create EMPress plot"
   ]
  },
  {
   "cell_type": "code",
   "execution_count": 10,
   "metadata": {},
   "outputs": [
    {
     "name": "stdout",
     "output_type": "stream",
     "text": [
      "\u001b[32mSaved Visualization to: fig2a/output/covid-plot-no-emperor.qzv\u001b[0m\r\n"
     ]
    }
   ],
   "source": [
    "# create visualization\n",
    "!qiime empress community-plot \\\n",
    "    --i-tree fig2a/output/tree.qza \\\n",
    "    --i-feature-table fig2a/output/covid-table.qza \\\n",
    "    --m-sample-metadata-file fig2a/input/ciaa203_suppl_supplementary_tables_s1-s6.csv \\\n",
    "    --m-feature-metadata-file fig2a/output/feature-change-metadata.tsv \\\n",
    "    --o-visualization fig2a/output/covid-plot-no-emperor.qzv --p-no-filter-missing-features"
   ]
  },
  {
   "cell_type": "markdown",
   "metadata": {},
   "source": [
    "# View EMPress plot"
   ]
  },
  {
   "cell_type": "code",
   "execution_count": 11,
   "metadata": {
    "scrolled": true
   },
   "outputs": [
    {
     "data": {
      "text/html": [
       "<div><img onload=\"(function(div, url){\n",
       "if (typeof require !== 'undefined') {\n",
       "    var baseURL = require.toUrl('').split('/').slice(0, -2).join('/');\n",
       "} else {\n",
       "    var baseURL = JSON.parse(\n",
       "        document.getElementById('jupyter-config-data').innerHTML\n",
       "    ).baseUrl.slice(0, -1);\n",
       "}\n",
       "url = baseURL + url;\n",
       "fetch(url).then(function(res) {\n",
       "    if (res.status === 404) {\n",
       "        div.innerHTML = 'Install QIIME 2 Jupyter extension with:<br />' +\n",
       "                        '<code>jupyter serverextension enable --py qiime2' +\n",
       "                        ' --sys-prefix</code><br />then restart your server.' +\n",
       "                        '<br /><br />(Interactive output not available on ' +\n",
       "                        'static notebook viewer services like nbviewer.)';\n",
       "    } else if (res.status === 409) {\n",
       "        div.innerHTML = 'Visualization no longer in scope. Re-run this cell' +\n",
       "                        ' to see the visualization.';\n",
       "    } else if (res.ok) {\n",
       "        url = res.url;\n",
       "        div.innerHTML = '<iframe src=\\'' + url + '\\' style=\\'' +\n",
       "                        'width: 100%; height: 700px; border: 0;\\'>' +\n",
       "                        '</iframe><hr />Open in a: <a href=\\'' + url + '\\'' +\n",
       "                        ' target=\\'_blank\\'>new window</a>'\n",
       "    } else {\n",
       "        div.innerHTML = 'Something has gone wrong. Check notebook server for' +\n",
       "                        ' errors.';\n",
       "    }\n",
       "});\n",
       "})(this.parentElement, '/qiime2/redirect?location=/tmp/qiime2-archive-w63f333a')\" src=\"data:image/gif;base64,R0lGODlhAQABAIAAAP///wAAACH5BAEAAAAALAAAAAABAAEAAAICRAEAOw==\" /></div>"
      ],
      "text/plain": [
       "<visualization: Visualization uuid: 9320d1e0-6679-4101-99a4-359819348c82>"
      ]
     },
     "execution_count": 11,
     "metadata": {},
     "output_type": "execute_result"
    }
   ],
   "source": [
    "# view tree visualization\n",
    "Visualization.load(\"fig2a/output/covid-plot-no-emperor.qzv\")"
   ]
  },
  {
   "cell_type": "code",
   "execution_count": null,
   "metadata": {},
   "outputs": [],
   "source": []
  }
 ],
 "metadata": {
  "kernelspec": {
   "display_name": "Python 3",
   "language": "python",
   "name": "python3"
  },
  "language_info": {
   "codemirror_mode": {
    "name": "ipython",
    "version": 3
   },
   "file_extension": ".py",
   "mimetype": "text/x-python",
   "name": "python",
   "nbconvert_exporter": "python",
   "pygments_lexer": "ipython3",
   "version": "3.6.10"
  }
 },
 "nbformat": 4,
 "nbformat_minor": 4
}
